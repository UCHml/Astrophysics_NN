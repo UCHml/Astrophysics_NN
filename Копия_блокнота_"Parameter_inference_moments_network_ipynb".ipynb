{
  "nbformat": 4,
  "nbformat_minor": 0,
  "metadata": {
    "colab": {
      "provenance": [],
      "include_colab_link": true
    },
    "kernelspec": {
      "name": "python3",
      "display_name": "Python 3"
    }
  },
  "cells": [
    {
      "cell_type": "markdown",
      "metadata": {
        "id": "view-in-github",
        "colab_type": "text"
      },
      "source": [
        "<a href=\"https://colab.research.google.com/github/UCHml/Astrophysics_NN/blob/main/%D0%9A%D0%BE%D0%BF%D0%B8%D1%8F_%D0%B1%D0%BB%D0%BE%D0%BA%D0%BD%D0%BE%D1%82%D0%B0_%22Parameter_inference_moments_network_ipynb%22.ipynb\" target=\"_parent\"><img src=\"https://colab.research.google.com/assets/colab-badge.svg\" alt=\"Open In Colab\"/></a>"
      ]
    },
    {
      "cell_type": "markdown",
      "metadata": {
        "id": "-XFyLxLpYKyL"
      },
      "source": [
        "### **Goal**\n",
        "\n",
        "In this notebook we are going to train a neural network to infer the value of cosmological and astrophysical parameters from the Star-formation rate density (SFRD) of hydrodynamic simulations.\n",
        "\n",
        "The SFRD is the global rate of formation of stars per unit of volume. It is a function of redshift:\n",
        "\n",
        "SFRH = SFRH(z)\n",
        "\n",
        "When changing cosmology and astrophysics, this quantity will be affected. It is possible to infer the value of the cosmological and astrophysical parameters just from measurements of this quantity:\n",
        "\n",
        "$\\vec{\\theta}=f({\\rm SFRH}(z))$        \n",
        " where\n",
        "       \n",
        "$\\vec{\\theta}=\\{ \\Omega_{\\rm m}, \\sigma_8, A_{\\rm SN1}, A_{\\rm SN2}, A_{\\rm AGN1}, A_{\\rm AGN2} \\}$\n",
        "\n",
        "We are going to approximate the function $f$ with a neural network. In reality, we dont expect a one-to-one relation between the two variables, but more a distribution, i.e.\n",
        "\n",
        "$p(\\vec{\\theta}|SFRD(z))$\n",
        "\n",
        "in this notebook we are going to learn to calculate the mean and standard deviation of the above conditional probability distribution function using [moments networks](https://arxiv.org/abs/2011.05991).\n",
        "\n",
        "Slides with the theory background aboute neural networks can be found [here](https://docs.google.com/presentation/d/15kvXYfaQk245MgctHqlGipUJdcpMxXxsbU7d3vF_ga4/edit?usp=sharing).\n",
        "\n",
        "### **Background: the CAMELS simulations**\n",
        "[https://www.camel-simulations.org]\n",
        "- A collection of 10,000+ N-body + state-of-the-art (magneto-)hydrodynamic simulations\n",
        "- Simulations vary 6 cosmological + astrophysical parameters, $\\{ \\Omega_{\\rm m}, \\sigma_8, A_{\\rm SN1}, A_{\\rm SN2}, A_{\\rm AGN1}, A_{\\rm AGN2}\\}$, plus initial random seed\n",
        "- 2 suites: AREPO/IllustrisTNG + SIMBA/GIZMO\n",
        "- Each suite contains 4 sets:\n",
        "  - **LH**. Each sim has a different values of cosmological, astrophysical and random seed. Organized in a latin-hypercube. 1,000 sims.\n",
        "  - **1P**: From a central/fiducial cosmology, simulations vary the value of one single parameter at a time. Same random seed for all sims. 61 sims.\n",
        "  - **CV**: All simulations have the same cosmology and astrophysics, only different random seed. To explore cosmic variance. 27 sims.\n",
        "  - **EX**: A set of 3 extreme models: 1) No feedback, 2) extreme AGN feedback and 3) extreme supernova feedback. 3 sims.\n",
        "\n",
        "We are going to use data from the LH set. In particular the Star-formation rate density (SFRH).\n",
        "\n",
        "## **Using the data**\n",
        "\n",
        "The data we are going to use for this exercise is in [here](https://github.com/franciscovillaescusa/ML_lectures). To upload the data to the notebook do this:\n",
        "\n",
        "- In a terminal from your computer do: git clone https://github.com/franciscovillaescusa/ML_lectures\n",
        "- That will create a folder called ML_lectures. Inside that folder there is another folder called data that contains 4 files: SFRD_X.npy (with the star-formation rate densities) and params_X.txt (containing the value of the cosmological and astrophysical parameters of each simulation). X can be IllustrisTNG or SIMBA\n",
        "- on the left bar of the google colab, click on the icon with the shape of a folder.\n",
        "- click on the \"upload to session storage\" icon and upload the above files to google colab"
      ]
    },
    {
      "cell_type": "markdown",
      "metadata": {
        "id": "qR9x1o8g915Q"
      },
      "source": [
        "#### Load libraries"
      ]
    },
    {
      "cell_type": "code",
      "metadata": {
        "id": "x1YKwS_D95_U"
      },
      "source": [
        "import numpy as np\n",
        "import sys,os,time\n",
        "import torch\n",
        "import torch.nn as nn\n",
        "from torch.utils.data.dataset import Dataset\n",
        "from torch.utils.data import DataLoader"
      ],
      "execution_count": 1,
      "outputs": []
    },
    {
      "cell_type": "markdown",
      "metadata": {
        "id": "-Da2ULqidUx1"
      },
      "source": [
        "#### If GPUs are available, use them"
      ]
    },
    {
      "cell_type": "code",
      "metadata": {
        "id": "rbqUdFuodbwR",
        "outputId": "5abee454-19fa-4c93-e915-ac439a9a2d22",
        "colab": {
          "base_uri": "https://localhost:8080/"
        }
      },
      "source": [
        "if torch.cuda.is_available():\n",
        "    print(\"CUDA Available\")\n",
        "    device = torch.device('cuda')\n",
        "else:\n",
        "    print('CUDA Not Available')\n",
        "    device = torch.device('cpu')"
      ],
      "execution_count": 2,
      "outputs": [
        {
          "output_type": "stream",
          "name": "stdout",
          "text": [
            "CUDA Not Available\n"
          ]
        }
      ]
    },
    {
      "cell_type": "markdown",
      "metadata": {
        "id": "Y8M1AjWhqto0"
      },
      "source": [
        "### Lets get familiar with the data"
      ]
    },
    {
      "cell_type": "code",
      "metadata": {
        "id": "Bhma-CVtn8zj",
        "colab": {
          "base_uri": "https://localhost:8080/"
        },
        "outputId": "f6f3aae1-9330-4e88-8e7c-797971e31ca4"
      },
      "source": [
        "z      = np.linspace(0.0, 7.0, 100)            #redshifts of the SFRD\n",
        "SFRD   = np.load('SFRH_IllustrisTNG.npy')      #read SFRD data\n",
        "params = np.loadtxt('params_IllustrisTNG.txt') #read value of cosmological & astrophysics parameters\n",
        "#print(params[0], params[1])\n",
        "#params[:, 0] = params[:, 0] * params[:, 1]\n",
        "#params = np.delete(params, 1, axis=1)\n",
        "print(params[0], params[1])"
      ],
      "execution_count": 3,
      "outputs": [
        {
          "output_type": "stream",
          "name": "stdout",
          "text": [
            "[0.309   0.979   3.11234 1.12194 0.6685  0.53182] [0.3026  0.9394  3.42001 3.96137 1.03311 1.1607 ]\n"
          ]
        }
      ]
    },
    {
      "cell_type": "markdown",
      "metadata": {
        "id": "m97m80ekDvDa"
      },
      "source": [
        "#### See the dimensions of the data\n"
      ]
    },
    {
      "cell_type": "code",
      "metadata": {
        "id": "ZyW0nQo9o5LT",
        "colab": {
          "base_uri": "https://localhost:8080/"
        },
        "outputId": "e754839e-2b0c-42aa-e02f-a2375c1e99a0"
      },
      "source": [
        "print(z.shape)\n",
        "print(SFRD.shape)\n",
        "print(params.shape)"
      ],
      "execution_count": 4,
      "outputs": [
        {
          "output_type": "stream",
          "name": "stdout",
          "text": [
            "(100,)\n",
            "(1000, 100)\n",
            "(1000, 6)\n"
          ]
        }
      ]
    },
    {
      "cell_type": "markdown",
      "metadata": {
        "id": "4KmXmyaUD1vD"
      },
      "source": [
        "#### Lets plot the first two SFRD from the dataset"
      ]
    },
    {
      "cell_type": "code",
      "metadata": {
        "id": "IBl5DRbOpKb3",
        "colab": {
          "base_uri": "https://localhost:8080/",
          "height": 449
        },
        "outputId": "f680e617-bf37-425c-c982-dbb85204348c"
      },
      "source": [
        "import matplotlib.pyplot as plt\n",
        "\n",
        "plt.ylabel(r'${\\rm SFRH}\\,\\,[M_\\odot {\\rm yr}^{-1}{\\rm Mpc}^{-3}]$')\n",
        "plt.xlabel(r'$z$')\n",
        "\n",
        "plt.plot(z, SFRD[0])\n",
        "plt.plot(z, SFRD[1])\n",
        "\n",
        "plt.show()"
      ],
      "execution_count": 5,
      "outputs": [
        {
          "output_type": "display_data",
          "data": {
            "text/plain": [
              "<Figure size 640x480 with 1 Axes>"
            ],
            "image/png": "[encoded data removed]"
          },
          "metadata": {}
        }
      ]
    },
    {
      "cell_type": "markdown",
      "metadata": {
        "id": "nGGk7EV1EMZ5"
      },
      "source": [
        "#### Get the value of the cosmological and astrophysical parameters for these two SFRD"
      ]
    },
    {
      "cell_type": "code",
      "metadata": {
        "id": "MnCPci3LqnW8",
        "colab": {
          "base_uri": "https://localhost:8080/"
        },
        "outputId": "120fa675-45e3-4175-b970-938b6848f48a"
      },
      "source": [
        "print('Sim: [Omega_m, sigma_8, A_SN1, A_AGN1, A_SN2, A_AGN2]')\n",
        "print('0:  ',params[0])\n",
        "print('1:  ',params[1])"
      ],
      "execution_count": 7,
      "outputs": [
        {
          "output_type": "stream",
          "name": "stdout",
          "text": [
            "Sim: [Omega_m, sigma_8, A_SN1, A_AGN1, A_SN2, A_AGN2]\n",
            "0:   [0.309   0.979   3.11234 1.12194 0.6685  0.53182]\n",
            "1:   [0.3026  0.9394  3.42001 3.96137 1.03311 1.1607 ]\n"
          ]
        }
      ]
    },
    {
      "cell_type": "markdown",
      "metadata": {
        "id": "xkCiKGaPE5Q1"
      },
      "source": [
        "### **Exercise**: calculate range of variation for each parameter, together with their mean value and standard deviation."
      ]
    },
    {
      "cell_type": "code",
      "metadata": {
        "id": "urluQkLCEUjY"
      },
      "source": [],
      "execution_count": 7,
      "outputs": []
    },
    {
      "cell_type": "markdown",
      "metadata": {
        "id": "gDpWsd24cXif"
      },
      "source": [
        "### Lets set the value of the (hyper-)parameters"
      ]
    },
    {
      "cell_type": "code",
      "metadata": {
        "id": "GtaqV6OAcerx"
      },
      "source": [
        "seed           = 1                         #random seed to shuffle data before splitting into training, validation and testing\n",
        "f_SFRD         = 'SFRH_IllustrisTNG.npy'   #file with the SFRD data\n",
        "f_params       = 'params_IllustrisTNG.txt' #file with the value of the parameters\n",
        "min_valid_loss = 1e7                       #set this to a large number. Used to compute\n",
        "\n",
        "batch_size     = 32                        #number of elements each batch contains. Hyper-parameter\n",
        "lr             = 1e-4                      #value of the learning rate. Hyper-parameter\n",
        "wd             = 0.0                       #value of the weight decay. Hyper-parameter\n",
        "dr             = 0.3                       #dropout rate. Hyper-parameter\n",
        "epochs         = 450                       #number of epochs to train the network. Hyper-parameter\n",
        "\n",
        "f_model = 'best_model.pt'"
      ],
      "execution_count": 8,
      "outputs": []
    },
    {
      "cell_type": "markdown",
      "metadata": {
        "id": "m3RoOx8iSUL8"
      },
      "source": [
        "\n",
        "\n",
        "\n",
        "\n",
        "\n",
        "\n",
        "\n",
        "\n",
        "\n",
        "\n",
        "\n",
        "\n",
        "\n",
        "\n",
        "\n",
        "\n",
        "\n",
        "\n",
        "\n",
        "\n",
        "\n",
        "\n",
        "\n",
        "\n",
        "\n",
        "\n",
        "\n",
        "\n",
        "\n",
        "\n",
        "\n",
        "\n",
        "\n",
        "\n",
        "\n",
        "\n",
        "\n",
        "\n",
        "\n",
        "\n",
        "\n",
        "\n",
        "\n",
        "\n",
        "\n",
        "\n",
        "\n",
        "\n",
        "\n",
        "\n",
        "\n",
        "\n",
        "\n",
        "\n",
        "\n",
        "\n",
        "\n",
        "\n",
        "\n",
        "\n",
        "\n",
        "### Lets write the function that loads the data.\n",
        "For convenience, is good to use the pytorch data loader.\n",
        "We need to define a python class and define the following two protocols:\n",
        "- `__getitem__()`. Will return the input and output for one particular element of the dataset.\n",
        "- `__len__()`. Will return the total number of elements in the dataset.italicized text.\n",
        "\n",
        "It is important to normalize the data. There are two typical options:\n",
        "\n",
        "- $\\tilde{X}=(X-\\bar{x})/\\sigma_X$\n",
        "- $\\tilde{X}=[X-{\\rm min}(X)]/[{\\rm max}(X) - {\\rm min}(X)]$"
      ]
    },
    {
      "cell_type": "code",
      "metadata": {
        "id": "LPo_kekxFCzF"
      },
      "source": [
        "# This routine creates a dataset loader\n",
        "# mode ---------> 'train', 'valid', 'test', 'all'. How to create the dataset\n",
        "# f_SFRD -------> file containing the data for the SFRD\n",
        "# f_params -----> file containing the value of the cosmological and astrophysical parameters\n",
        "# batch_size ---> number of elements in the batch\n",
        "# seed ---------> the data is randomly shuffled before being split into training, validation and testing. This set the random seed for that.\n",
        "def create_dataset(mode, f_SFRD, f_params, batch_size, seed):\n",
        "\n",
        "    # create the class with the dataset\n",
        "    data_set = make_dataset(mode, f_SFRD, f_params, seed)\n",
        "\n",
        "    # create the data loader\n",
        "    return DataLoader(dataset=data_set, batch_size=batch_size, shuffle=True)\n",
        "\n",
        "\n",
        "# This class creates the dataset\n",
        "class make_dataset():\n",
        "\n",
        "    def __init__(self, mode, f_SFRD, f_params, seed):\n",
        "\n",
        "        # read the data\n",
        "        SFRD   = np.load(f_SFRD)      #read SFRD data\n",
        "        params = np.loadtxt(f_params) #read value of the parameters\n",
        "\n",
        "        # normalize the value of the SFRD\n",
        "        SFRD[np.where(SFRD==0.0)] = 1e-12 #avoid points with SFRD=0\n",
        "        SFRD = np.log10(SFRD)\n",
        "        mean = np.mean(SFRD, axis=0, dtype=np.float64)\n",
        "        std  = np.std(SFRD,  axis=0, dtype=np.float64)\n",
        "        SFRD = (SFRD - mean)/std\n",
        "\n",
        "        s8 = params[:, 1] * np.sqrt(params[:,0])\n",
        "        params[:, 1] = s8\n",
        "\n",
        "        # Normalize the value of the parameters\n",
        "        min_params = np.min(params, axis=0)\n",
        "        max_params = np.max(params, axis=0)\n",
        "        params     = (params - min_params)/(max_params - min_params)\n",
        "\n",
        "        # get the number of simulations and number of bins in the SFRD\n",
        "        simulations = SFRD.shape[0]\n",
        "        bins        = SFRD.shape[1]\n",
        "\n",
        "        # get the size and offset depending on the type of dataset\n",
        "        if   mode=='train':\n",
        "            size, offset = int(simulations*0.70), int(simulations*0.00)\n",
        "        elif mode=='valid':\n",
        "            size, offset = int(simulations*0.15), int(simulations*0.70)\n",
        "        elif mode=='test':\n",
        "            size, offset = int(simulations*0.15), int(simulations*0.85)\n",
        "        elif mode=='all':\n",
        "            size, offset = int(simulations*1.00), int(simulations*0.00)\n",
        "        else:    raise Exception('Wrong name!')\n",
        "\n",
        "        # define size, input and output arrays containing the data\n",
        "        self.size   = size\n",
        "        #self.input  = torch.zeros((size,bins), dtype=torch.float) #array with the SFRD\n",
        "        #self.output = torch.zeros((size,6),    dtype=torch.float) #array with the parameters\n",
        "\n",
        "        # randomly shuffle the data. Instead of 0 1 2 3...999 have a\n",
        "        # random permutation. E.g. 5 9 0 29...342\n",
        "        np.random.seed(seed)\n",
        "        indexes = np.arange(simulations)\n",
        "        np.random.shuffle(indexes)\n",
        "        indexes = indexes[offset:offset+size] #select indexes of the mode\n",
        "\n",
        "        # get the corresponding parameters and SFRH\n",
        "        self.input  = torch.tensor(SFRD[indexes],   dtype=torch.float32)\n",
        "        self.output = torch.tensor(params[indexes], dtype=torch.float32)\n",
        "        self.weights = torch.pow(\n",
        "            torch.subtract(\n",
        "                torch.tensor([0.8]),\n",
        "                torch.tensor(params[indexes, 1])\n",
        "            ),\n",
        "            2\n",
        "        )\n",
        "\n",
        "    # This protocol returns the size of the dataset\n",
        "    def __len__(self):\n",
        "        return self.size\n",
        "\n",
        "    # This protocol returns\n",
        "    def __getitem__(self, idx):\n",
        "        return self.input[idx], self.output[idx]\n",
        "\n",
        "# get the data\n",
        "train_loader = create_dataset('train', f_SFRD, f_params, batch_size, seed) #training data\n",
        "valid_loader = create_dataset('valid', f_SFRD, f_params, batch_size, seed) #validation data"
      ],
      "execution_count": 9,
      "outputs": []
    },
    {
      "cell_type": "markdown",
      "metadata": {
        "id": "dcKUktRv-NGm"
      },
      "source": [
        "### Lets define the architecture of the neural network\n",
        "Use a python class and define the layers in the `__init__()` protocol and the model in the `forward()` routine."
      ]
    },
    {
      "cell_type": "code",
      "metadata": {
        "id": "zZyXW8scuyZT",
        "colab": {
          "base_uri": "https://localhost:8080/"
        },
        "outputId": "1618b83e-358c-486d-912e-c43d4adc334e"
      },
      "source": [
        "class three_hidden_layers(nn.Module):\n",
        "\n",
        "    def __init__(self, input_size, hidden_size1, hidden_size2, hidden_size3, output_size, dropout_rate):\n",
        "        super(three_hidden_layers, self).__init__()\n",
        "\n",
        "        # define the fully connected layers\n",
        "        self.fc1 = nn.Linear(input_size, hidden_size1)\n",
        "        self.fc2 = nn.Linear(hidden_size1, hidden_size2)\n",
        "        self.fc3 = nn.Linear(hidden_size2, hidden_size3)\n",
        "        self.fc4 = nn.Linear(hidden_size3, output_size)\n",
        "\n",
        "        # define the other layers\n",
        "        self.dropout   = nn.Dropout(p=dropout_rate)\n",
        "        self.ReLU      = nn.ReLU()\n",
        "        self.LeakyReLU = nn.LeakyReLU(0.2)\n",
        "\n",
        "    # forward pass\n",
        "    def forward(self, x):\n",
        "        out = self.fc1(x)\n",
        "        out = self.LeakyReLU(out)\n",
        "        out = self.dropout(out)\n",
        "        out = self.fc2(out)\n",
        "        out = self.LeakyReLU(out)\n",
        "        out = self.dropout(out)\n",
        "        out = self.fc3(out)\n",
        "        out = self.LeakyReLU(out)\n",
        "        out = self.dropout(out)\n",
        "        out = self.fc4(out)\n",
        "        return out\n",
        "\n",
        "# get the model and move it to the GPU\n",
        "model = three_hidden_layers(100, 128, 256, 128, 12, dr) #architecture (we output 12 parameters, 6 posterior means, and 6 posterior standard deviations)\n",
        "model.to(device=device)                    #move the architecture to the GPU, if available\n",
        "\n",
        "# compute the number of parameters in the model\n",
        "network_total_params = sum(p.numel() for p in model.parameters())\n",
        "print('total number of parameters in the model = %d'%network_total_params)"
      ],
      "execution_count": 10,
      "outputs": [
        {
          "output_type": "stream",
          "name": "stdout",
          "text": [
            "total number of parameters in the model = 80396\n"
          ]
        }
      ]
    },
    {
      "cell_type": "markdown",
      "metadata": {
        "id": "XgQP0DGwbArB"
      },
      "source": [
        "### Define the loss function and optimizer"
      ]
    },
    {
      "cell_type": "code",
      "metadata": {
        "id": "Joludtpi3beR"
      },
      "source": [
        "criterion = nn.MSELoss()  #loss function. In this case MSE (mean squared error)\n",
        "optimizer = torch.optim.Adam(model.parameters(), lr=lr, betas=(0.5, 0.999), weight_decay=wd)"
      ],
      "execution_count": 11,
      "outputs": []
    },
    {
      "cell_type": "markdown",
      "metadata": {
        "id": "_g-z0m5ejKlw"
      },
      "source": [
        "## Train!"
      ]
    },
    {
      "cell_type": "code",
      "metadata": {
        "id": "_xdgsLiwh2IB",
        "colab": {
          "base_uri": "https://localhost:8080/"
        },
        "outputId": "5d017343-3ed3-49af-d68b-dd0fe81e86ce"
      },
      "source": [
        "start = time.time()\n",
        "\n",
        "train_value = np.zeros(epochs)\n",
        "valid_value = np.zeros(epochs)\n",
        "\n",
        "# do a loop over all epochs\n",
        "for epoch in range(epochs):\n",
        "\n",
        "    # do training\n",
        "    train_loss, points = 0.0, 0\n",
        "    model.train()  #set this when training. Some architecture pieces, e.g. dropout behave differently\n",
        "    for SFRH_train, params_train in train_loader:  #do a loop over all elements in the training set\n",
        "\n",
        "        # get the size of the batch\n",
        "        bs = SFRH_train.shape[0]\n",
        "\n",
        "        # move data to GPU\n",
        "        params_train = params_train.to(device)\n",
        "        SFRH_train   = SFRH_train.to(device)\n",
        "\n",
        "        # compute the value predicted by the network\n",
        "        p = model(SFRH_train)\n",
        "\n",
        "        # compute loss\n",
        "        params_NN = p[:,:6]             #posterior mean\n",
        "        errors_NN = p[:,6:]             #posterior std\n",
        "        loss1 = torch.mean((params_NN - params_train)**2,                     axis=0)\n",
        "        loss2 = torch.mean(((params_NN - params_train)**2 - errors_NN**2)**2, axis=0)\n",
        "        loss  = torch.mean(torch.log(loss1) + torch.log(loss2))\n",
        "        #loss = criterion(params_pred, params_train)\n",
        "\n",
        "        # compute cumulative loss and number of examples used\n",
        "        train_loss += (loss.item())*bs\n",
        "        points     += bs\n",
        "\n",
        "        # zero gradients and do backpropagation. This is the magic!\n",
        "        optimizer.zero_grad()\n",
        "        loss.backward()\n",
        "        optimizer.step()\n",
        "\n",
        "    # get the average training loss\n",
        "    train_loss /= points\n",
        "    train_value[epoch] = train_loss\n",
        "\n",
        "\n",
        "    # do validation\n",
        "    valid_loss, points = 0.0, 0\n",
        "    model.eval()   #set this for validation and testing. Some architecture pieces, e.g. dropout behave differently\n",
        "    for SFRH_val, params_val in valid_loader: # do a loop over all elements in the validation set\n",
        "        with torch.no_grad():   #put this for validation/testing, so save memory and be more efficient. It tells to dont save gradients.\n",
        "\n",
        "            # get the size of the batch\n",
        "            bs = SFRH_val.shape[0]\n",
        "\n",
        "            # move data to the GPU\n",
        "            params_val = params_val.to(device)\n",
        "            SFRH_val   = SFRH_val.to(device)\n",
        "\n",
        "            # compute prediction by the network\n",
        "            p = model(SFRH_val)\n",
        "\n",
        "            params_NN = p[:,:6]             #posterior mean\n",
        "            errors_NN = p[:,6:]             #posterior std\n",
        "            loss1 = torch.mean((params_NN - params_val)**2,                     axis=0)\n",
        "            loss2 = torch.mean(((params_NN - params_val)**2 - errors_NN**2)**2, axis=0)\n",
        "            loss  = torch.mean(torch.log(loss1) + torch.log(loss2))\n",
        "\n",
        "            # compute cumulative loss and number of examples used\n",
        "            valid_loss += loss.item()*bs\n",
        "            points     += bs\n",
        "\n",
        "\n",
        "    # get the average validation loss\n",
        "    valid_loss /= points\n",
        "    valid_value[epoch] = valid_loss\n",
        "\n",
        "    # save model if it has a lower validation loss\n",
        "    print('%03d %.3e %.3e'%(epoch, train_loss, valid_loss), end='')\n",
        "    if valid_loss<min_valid_loss:\n",
        "        torch.save(model.state_dict(), f_model)\n",
        "        min_valid_loss = valid_loss\n",
        "        print(' (best-model)')\n",
        "    else:\n",
        "        print('')\n",
        "\n",
        "\n",
        "stop = time.time()\n",
        "print('Time taken (seconds):', \"{:.4f}\".format(stop-start))"
      ],
      "execution_count": 12,
      "outputs": [
        {
          "output_type": "stream",
          "name": "stdout",
          "text": [
            "000 -3.750e+00 -4.575e+00 (best-model)\n",
            "001 -4.943e+00 -6.028e+00 (best-model)\n",
            "002 -5.990e+00 -6.710e+00 (best-model)\n",
            "003 -6.529e+00 -7.284e+00 (best-model)\n",
            "004 -6.837e+00 -7.666e+00 (best-model)\n",
            "005 -7.088e+00 -7.955e+00 (best-model)\n",
            "006 -7.317e+00 -8.269e+00 (best-model)\n",
            "007 -7.498e+00 -8.415e+00 (best-model)\n",
            "008 -7.688e+00 -8.581e+00 (best-model)\n",
            "009 -7.864e+00 -8.795e+00 (best-model)\n",
            "010 -7.871e+00 -8.734e+00\n",
            "011 -8.116e+00 -9.117e+00 (best-model)\n",
            "012 -8.168e+00 -9.191e+00 (best-model)\n",
            "013 -8.245e+00 -9.463e+00 (best-model)\n",
            "014 -8.340e+00 -9.580e+00 (best-model)\n",
            "015 -8.390e+00 -9.489e+00\n",
            "016 -8.583e+00 -9.829e+00 (best-model)\n",
            "017 -8.718e+00 -9.760e+00\n",
            "018 -8.787e+00 -9.768e+00\n",
            "019 -8.805e+00 -1.010e+01 (best-model)\n",
            "020 -8.861e+00 -1.003e+01\n",
            "021 -8.844e+00 -1.018e+01 (best-model)\n",
            "022 -8.927e+00 -9.974e+00\n",
            "023 -9.020e+00 -1.021e+01 (best-model)\n",
            "024 -9.029e+00 -1.023e+01 (best-model)\n",
            "025 -9.053e+00 -1.036e+01 (best-model)\n",
            "026 -9.094e+00 -1.013e+01\n",
            "027 -9.171e+00 -1.048e+01 (best-model)\n",
            "028 -9.224e+00 -1.043e+01\n",
            "029 -9.226e+00 -1.030e+01\n",
            "030 -9.277e+00 -1.044e+01\n",
            "031 -9.212e+00 -1.051e+01 (best-model)\n",
            "032 -9.258e+00 -1.039e+01\n",
            "033 -9.234e+00 -1.043e+01\n",
            "034 -9.238e+00 -1.044e+01\n",
            "035 -9.336e+00 -1.049e+01\n",
            "036 -9.297e+00 -1.056e+01 (best-model)\n",
            "037 -9.418e+00 -1.060e+01 (best-model)\n",
            "038 -9.308e+00 -1.050e+01\n",
            "039 -9.408e+00 -1.071e+01 (best-model)\n",
            "040 -9.431e+00 -1.058e+01\n",
            "041 -9.469e+00 -1.058e+01\n",
            "042 -9.342e+00 -1.055e+01\n",
            "043 -9.401e+00 -1.057e+01\n",
            "044 -9.552e+00 -1.069e+01\n",
            "045 -9.607e+00 -1.053e+01\n",
            "046 -9.608e+00 -1.065e+01\n",
            "047 -9.423e+00 -1.058e+01\n",
            "048 -9.578e+00 -1.069e+01\n",
            "049 -9.561e+00 -1.060e+01\n",
            "050 -9.628e+00 -1.075e+01 (best-model)\n",
            "051 -9.595e+00 -1.064e+01\n",
            "052 -9.478e+00 -1.074e+01\n",
            "053 -9.619e+00 -1.077e+01 (best-model)\n",
            "054 -9.578e+00 -1.079e+01 (best-model)\n",
            "055 -9.697e+00 -1.061e+01\n",
            "056 -9.662e+00 -1.074e+01\n",
            "057 -9.722e+00 -1.069e+01\n",
            "058 -9.683e+00 -1.051e+01\n",
            "059 -9.626e+00 -1.070e+01\n",
            "060 -9.658e+00 -1.081e+01 (best-model)\n",
            "061 -9.770e+00 -1.061e+01\n",
            "062 -9.663e+00 -1.065e+01\n",
            "063 -9.741e+00 -1.074e+01\n",
            "064 -9.800e+00 -1.071e+01\n",
            "065 -9.754e+00 -1.073e+01\n",
            "066 -9.729e+00 -1.070e+01\n",
            "067 -9.664e+00 -1.088e+01 (best-model)\n",
            "068 -9.833e+00 -1.084e+01\n",
            "069 -9.763e+00 -1.056e+01\n",
            "070 -9.695e+00 -1.089e+01 (best-model)\n",
            "071 -9.790e+00 -1.086e+01\n",
            "072 -9.819e+00 -1.074e+01\n",
            "073 -9.734e+00 -1.088e+01\n",
            "074 -9.730e+00 -1.083e+01\n",
            "075 -9.813e+00 -1.078e+01\n",
            "076 -9.764e+00 -1.073e+01\n",
            "077 -9.837e+00 -1.077e+01\n",
            "078 -9.804e+00 -1.081e+01\n",
            "079 -9.866e+00 -1.069e+01\n",
            "080 -9.763e+00 -1.086e+01\n",
            "081 -9.972e+00 -1.076e+01\n",
            "082 -9.799e+00 -1.089e+01 (best-model)\n",
            "083 -9.883e+00 -1.076e+01\n",
            "084 -9.875e+00 -1.088e+01\n",
            "085 -9.897e+00 -1.099e+01 (best-model)\n",
            "086 -9.875e+00 -1.095e+01\n",
            "087 -9.947e+00 -1.082e+01\n",
            "088 -9.862e+00 -1.078e+01\n",
            "089 -9.983e+00 -1.084e+01\n",
            "090 -9.866e+00 -1.095e+01\n",
            "091 -9.847e+00 -1.083e+01\n",
            "092 -9.967e+00 -1.081e+01\n",
            "093 -9.900e+00 -1.084e+01\n",
            "094 -9.968e+00 -1.085e+01\n",
            "095 -9.949e+00 -1.082e+01\n",
            "096 -1.002e+01 -1.079e+01\n",
            "097 -9.904e+00 -1.083e+01\n",
            "098 -1.002e+01 -1.076e+01\n",
            "099 -9.982e+00 -1.088e+01\n",
            "100 -1.005e+01 -1.087e+01\n",
            "101 -9.962e+00 -1.087e+01\n",
            "102 -9.976e+00 -1.096e+01\n",
            "103 -9.941e+00 -1.096e+01\n",
            "104 -9.991e+00 -1.084e+01\n",
            "105 -9.920e+00 -1.087e+01\n",
            "106 -1.004e+01 -1.067e+01\n",
            "107 -1.002e+01 -1.100e+01 (best-model)\n",
            "108 -1.003e+01 -1.090e+01\n",
            "109 -9.909e+00 -1.087e+01\n",
            "110 -1.002e+01 -1.085e+01\n",
            "111 -1.009e+01 -1.086e+01\n",
            "112 -1.004e+01 -1.084e+01\n",
            "113 -9.984e+00 -1.093e+01\n",
            "114 -1.001e+01 -1.090e+01\n",
            "115 -1.003e+01 -1.085e+01\n",
            "116 -1.006e+01 -1.083e+01\n",
            "117 -1.015e+01 -1.089e+01\n",
            "118 -1.016e+01 -1.083e+01\n",
            "119 -1.016e+01 -1.089e+01\n",
            "120 -1.007e+01 -1.098e+01\n",
            "121 -1.008e+01 -1.087e+01\n",
            "122 -1.005e+01 -1.094e+01\n",
            "123 -1.013e+01 -1.084e+01\n",
            "124 -1.010e+01 -1.093e+01\n",
            "125 -1.011e+01 -1.093e+01\n",
            "126 -1.020e+01 -1.094e+01\n",
            "127 -9.987e+00 -1.095e+01\n",
            "128 -1.016e+01 -1.096e+01\n",
            "129 -1.015e+01 -1.084e+01\n",
            "130 -1.008e+01 -1.089e+01\n",
            "131 -1.010e+01 -1.088e+01\n",
            "132 -1.012e+01 -1.097e+01\n",
            "133 -1.008e+01 -1.099e+01\n",
            "134 -1.013e+01 -1.095e+01\n",
            "135 -1.016e+01 -1.085e+01\n",
            "136 -1.011e+01 -1.090e+01\n",
            "137 -1.018e+01 -1.094e+01\n",
            "138 -1.005e+01 -1.088e+01\n",
            "139 -1.017e+01 -1.093e+01\n",
            "140 -1.017e+01 -1.096e+01\n",
            "141 -1.028e+01 -1.097e+01\n",
            "142 -1.017e+01 -1.093e+01\n",
            "143 -1.019e+01 -1.091e+01\n",
            "144 -1.024e+01 -1.111e+01 (best-model)\n",
            "145 -1.010e+01 -1.092e+01\n",
            "146 -1.019e+01 -1.105e+01\n",
            "147 -1.020e+01 -1.101e+01\n",
            "148 -1.016e+01 -1.095e+01\n",
            "149 -1.016e+01 -1.086e+01\n",
            "150 -1.022e+01 -1.078e+01\n",
            "151 -1.019e+01 -1.094e+01\n",
            "152 -1.023e+01 -1.092e+01\n",
            "153 -1.025e+01 -1.091e+01\n",
            "154 -1.024e+01 -1.085e+01\n",
            "155 -1.020e+01 -1.092e+01\n",
            "156 -1.019e+01 -1.091e+01\n",
            "157 -1.024e+01 -1.100e+01\n",
            "158 -1.018e+01 -1.096e+01\n",
            "159 -1.018e+01 -1.101e+01\n",
            "160 -1.025e+01 -1.093e+01\n",
            "161 -1.027e+01 -1.093e+01\n",
            "162 -1.028e+01 -1.100e+01\n",
            "163 -1.027e+01 -1.097e+01\n",
            "164 -1.031e+01 -1.089e+01\n",
            "165 -1.019e+01 -1.107e+01\n",
            "166 -1.023e+01 -1.091e+01\n",
            "167 -1.032e+01 -1.103e+01\n",
            "168 -1.036e+01 -1.087e+01\n",
            "169 -1.027e+01 -1.105e+01\n",
            "170 -1.027e+01 -1.094e+01\n",
            "171 -1.041e+01 -1.107e+01\n",
            "172 -1.022e+01 -1.100e+01\n",
            "173 -1.033e+01 -1.099e+01\n",
            "174 -1.041e+01 -1.105e+01\n",
            "175 -1.022e+01 -1.096e+01\n",
            "176 -1.029e+01 -1.102e+01\n",
            "177 -1.027e+01 -1.109e+01\n",
            "178 -1.018e+01 -1.096e+01\n",
            "179 -1.032e+01 -1.085e+01\n",
            "180 -1.031e+01 -1.104e+01\n",
            "181 -1.037e+01 -1.100e+01\n",
            "182 -1.033e+01 -1.089e+01\n",
            "183 -1.023e+01 -1.096e+01\n",
            "184 -1.039e+01 -1.103e+01\n",
            "185 -1.027e+01 -1.099e+01\n",
            "186 -1.031e+01 -1.095e+01\n",
            "187 -1.035e+01 -1.098e+01\n",
            "188 -1.039e+01 -1.095e+01\n",
            "189 -1.038e+01 -1.105e+01\n",
            "190 -1.030e+01 -1.087e+01\n",
            "191 -1.038e+01 -1.100e+01\n",
            "192 -1.040e+01 -1.084e+01\n",
            "193 -1.027e+01 -1.097e+01\n",
            "194 -1.029e+01 -1.095e+01\n",
            "195 -1.030e+01 -1.103e+01\n",
            "196 -1.035e+01 -1.099e+01\n",
            "197 -1.036e+01 -1.093e+01\n",
            "198 -1.031e+01 -1.099e+01\n",
            "199 -1.036e+01 -1.107e+01\n",
            "200 -1.037e+01 -1.106e+01\n",
            "201 -1.035e+01 -1.098e+01\n",
            "202 -1.033e+01 -1.105e+01\n",
            "203 -1.042e+01 -1.116e+01 (best-model)\n",
            "204 -1.043e+01 -1.098e+01\n",
            "205 -1.041e+01 -1.095e+01\n",
            "206 -1.038e+01 -1.097e+01\n",
            "207 -1.034e+01 -1.095e+01\n",
            "208 -1.044e+01 -1.106e+01\n",
            "209 -1.040e+01 -1.095e+01\n",
            "210 -1.034e+01 -1.093e+01\n",
            "211 -1.032e+01 -1.101e+01\n",
            "212 -1.046e+01 -1.108e+01\n",
            "213 -1.039e+01 -1.102e+01\n",
            "214 -1.043e+01 -1.092e+01\n",
            "215 -1.044e+01 -1.104e+01\n",
            "216 -1.033e+01 -1.101e+01\n",
            "217 -1.046e+01 -1.102e+01\n",
            "218 -1.037e+01 -1.097e+01\n",
            "219 -1.039e+01 -1.099e+01\n",
            "220 -1.037e+01 -1.095e+01\n",
            "221 -1.053e+01 -1.097e+01\n",
            "222 -1.045e+01 -1.096e+01\n",
            "223 -1.049e+01 -1.099e+01\n",
            "224 -1.034e+01 -1.099e+01\n",
            "225 -1.043e+01 -1.093e+01\n",
            "226 -1.051e+01 -1.097e+01\n",
            "227 -1.034e+01 -1.084e+01\n",
            "228 -1.049e+01 -1.099e+01\n",
            "229 -1.040e+01 -1.092e+01\n",
            "230 -1.042e+01 -1.088e+01\n",
            "231 -1.056e+01 -1.100e+01\n",
            "232 -1.057e+01 -1.087e+01\n",
            "233 -1.036e+01 -1.089e+01\n",
            "234 -1.048e+01 -1.098e+01\n",
            "235 -1.051e+01 -1.097e+01\n",
            "236 -1.052e+01 -1.103e+01\n",
            "237 -1.047e+01 -1.105e+01\n",
            "238 -1.050e+01 -1.116e+01\n",
            "239 -1.050e+01 -1.099e+01\n",
            "240 -1.053e+01 -1.103e+01\n",
            "241 -1.050e+01 -1.096e+01\n",
            "242 -1.047e+01 -1.093e+01\n",
            "243 -1.043e+01 -1.113e+01\n",
            "244 -1.046e+01 -1.094e+01\n",
            "245 -1.055e+01 -1.097e+01\n",
            "246 -1.045e+01 -1.102e+01\n",
            "247 -1.043e+01 -1.102e+01\n",
            "248 -1.043e+01 -1.110e+01\n",
            "249 -1.049e+01 -1.101e+01\n",
            "250 -1.035e+01 -1.113e+01\n",
            "251 -1.048e+01 -1.105e+01\n",
            "252 -1.042e+01 -1.103e+01\n",
            "253 -1.049e+01 -1.097e+01\n",
            "254 -1.046e+01 -1.093e+01\n",
            "255 -1.053e+01 -1.099e+01\n",
            "256 -1.054e+01 -1.094e+01\n",
            "257 -1.043e+01 -1.109e+01\n",
            "258 -1.038e+01 -1.101e+01\n",
            "259 -1.058e+01 -1.104e+01\n",
            "260 -1.041e+01 -1.108e+01\n",
            "261 -1.047e+01 -1.102e+01\n",
            "262 -1.051e+01 -1.111e+01\n",
            "263 -1.065e+01 -1.107e+01\n",
            "264 -1.048e+01 -1.103e+01\n",
            "265 -1.058e+01 -1.112e+01\n",
            "266 -1.052e+01 -1.101e+01\n",
            "267 -1.053e+01 -1.099e+01\n",
            "268 -1.058e+01 -1.106e+01\n",
            "269 -1.061e+01 -1.106e+01\n",
            "270 -1.044e+01 -1.102e+01\n",
            "271 -1.059e+01 -1.097e+01\n",
            "272 -1.056e+01 -1.108e+01\n",
            "273 -1.059e+01 -1.110e+01\n",
            "274 -1.055e+01 -1.110e+01\n",
            "275 -1.043e+01 -1.107e+01\n",
            "276 -1.052e+01 -1.109e+01\n",
            "277 -1.059e+01 -1.111e+01\n",
            "278 -1.052e+01 -1.108e+01\n",
            "279 -1.052e+01 -1.109e+01\n",
            "280 -1.053e+01 -1.100e+01\n",
            "281 -1.055e+01 -1.110e+01\n",
            "282 -1.066e+01 -1.114e+01\n",
            "283 -1.055e+01 -1.112e+01\n",
            "284 -1.051e+01 -1.108e+01\n",
            "285 -1.050e+01 -1.097e+01\n",
            "286 -1.053e+01 -1.093e+01\n",
            "287 -1.058e+01 -1.104e+01\n",
            "288 -1.058e+01 -1.107e+01\n",
            "289 -1.052e+01 -1.103e+01\n",
            "290 -1.062e+01 -1.114e+01\n",
            "291 -1.058e+01 -1.113e+01\n",
            "292 -1.054e+01 -1.101e+01\n",
            "293 -1.060e+01 -1.109e+01\n",
            "294 -1.056e+01 -1.108e+01\n",
            "295 -1.065e+01 -1.112e+01\n",
            "296 -1.051e+01 -1.104e+01\n",
            "297 -1.062e+01 -1.103e+01\n",
            "298 -1.054e+01 -1.108e+01\n",
            "299 -1.053e+01 -1.109e+01\n",
            "300 -1.059e+01 -1.107e+01\n",
            "301 -1.053e+01 -1.107e+01\n",
            "302 -1.053e+01 -1.107e+01\n",
            "303 -1.056e+01 -1.102e+01\n",
            "304 -1.057e+01 -1.110e+01\n",
            "305 -1.059e+01 -1.106e+01\n",
            "306 -1.061e+01 -1.114e+01\n",
            "307 -1.057e+01 -1.113e+01\n",
            "308 -1.055e+01 -1.104e+01\n",
            "309 -1.064e+01 -1.105e+01\n",
            "310 -1.064e+01 -1.115e+01\n",
            "311 -1.064e+01 -1.094e+01\n",
            "312 -1.057e+01 -1.108e+01\n",
            "313 -1.063e+01 -1.110e+01\n",
            "314 -1.063e+01 -1.108e+01\n",
            "315 -1.072e+01 -1.110e+01\n",
            "316 -1.056e+01 -1.116e+01 (best-model)\n",
            "317 -1.061e+01 -1.099e+01\n",
            "318 -1.058e+01 -1.101e+01\n",
            "319 -1.065e+01 -1.110e+01\n",
            "320 -1.057e+01 -1.107e+01\n",
            "321 -1.064e+01 -1.109e+01\n",
            "322 -1.058e+01 -1.114e+01\n",
            "323 -1.066e+01 -1.110e+01\n",
            "324 -1.061e+01 -1.113e+01\n",
            "325 -1.061e+01 -1.105e+01\n",
            "326 -1.063e+01 -1.110e+01\n",
            "327 -1.069e+01 -1.112e+01\n",
            "328 -1.067e+01 -1.104e+01\n",
            "329 -1.056e+01 -1.106e+01\n",
            "330 -1.061e+01 -1.112e+01\n",
            "331 -1.062e+01 -1.118e+01 (best-model)\n",
            "332 -1.067e+01 -1.106e+01\n",
            "333 -1.072e+01 -1.115e+01\n",
            "334 -1.066e+01 -1.123e+01 (best-model)\n",
            "335 -1.063e+01 -1.106e+01\n",
            "336 -1.061e+01 -1.109e+01\n",
            "337 -1.074e+01 -1.108e+01\n",
            "338 -1.062e+01 -1.114e+01\n",
            "339 -1.057e+01 -1.109e+01\n",
            "340 -1.066e+01 -1.110e+01\n",
            "341 -1.061e+01 -1.112e+01\n",
            "342 -1.058e+01 -1.111e+01\n",
            "343 -1.067e+01 -1.107e+01\n",
            "344 -1.068e+01 -1.113e+01\n",
            "345 -1.066e+01 -1.110e+01\n",
            "346 -1.071e+01 -1.111e+01\n",
            "347 -1.063e+01 -1.107e+01\n",
            "348 -1.063e+01 -1.118e+01\n",
            "349 -1.077e+01 -1.112e+01\n",
            "350 -1.070e+01 -1.106e+01\n",
            "351 -1.070e+01 -1.098e+01\n",
            "352 -1.079e+01 -1.107e+01\n",
            "353 -1.067e+01 -1.102e+01\n",
            "354 -1.071e+01 -1.110e+01\n",
            "355 -1.068e+01 -1.107e+01\n",
            "356 -1.068e+01 -1.108e+01\n",
            "357 -1.058e+01 -1.108e+01\n",
            "358 -1.063e+01 -1.115e+01\n",
            "359 -1.067e+01 -1.101e+01\n",
            "360 -1.068e+01 -1.120e+01\n",
            "361 -1.066e+01 -1.112e+01\n",
            "362 -1.079e+01 -1.110e+01\n",
            "363 -1.067e+01 -1.120e+01\n",
            "364 -1.065e+01 -1.112e+01\n",
            "365 -1.074e+01 -1.101e+01\n",
            "366 -1.072e+01 -1.114e+01\n",
            "367 -1.073e+01 -1.100e+01\n",
            "368 -1.074e+01 -1.101e+01\n",
            "369 -1.076e+01 -1.104e+01\n",
            "370 -1.076e+01 -1.107e+01\n",
            "371 -1.080e+01 -1.102e+01\n",
            "372 -1.075e+01 -1.100e+01\n",
            "373 -1.080e+01 -1.107e+01\n",
            "374 -1.078e+01 -1.123e+01\n",
            "375 -1.059e+01 -1.109e+01\n",
            "376 -1.065e+01 -1.111e+01\n",
            "377 -1.074e+01 -1.104e+01\n",
            "378 -1.066e+01 -1.116e+01\n",
            "379 -1.076e+01 -1.104e+01\n",
            "380 -1.079e+01 -1.108e+01\n",
            "381 -1.076e+01 -1.108e+01\n",
            "382 -1.087e+01 -1.106e+01\n",
            "383 -1.076e+01 -1.110e+01\n",
            "384 -1.077e+01 -1.115e+01\n",
            "385 -1.075e+01 -1.111e+01\n",
            "386 -1.070e+01 -1.112e+01\n",
            "387 -1.077e+01 -1.115e+01\n",
            "388 -1.082e+01 -1.115e+01\n",
            "389 -1.073e+01 -1.119e+01\n",
            "390 -1.077e+01 -1.112e+01\n",
            "391 -1.067e+01 -1.115e+01\n",
            "392 -1.072e+01 -1.114e+01\n",
            "393 -1.076e+01 -1.106e+01\n",
            "394 -1.075e+01 -1.114e+01\n",
            "395 -1.073e+01 -1.115e+01\n",
            "396 -1.076e+01 -1.102e+01\n",
            "397 -1.080e+01 -1.103e+01\n",
            "398 -1.069e+01 -1.106e+01\n",
            "399 -1.080e+01 -1.107e+01\n",
            "400 -1.085e+01 -1.110e+01\n",
            "401 -1.078e+01 -1.120e+01\n",
            "402 -1.068e+01 -1.110e+01\n",
            "403 -1.081e+01 -1.116e+01\n",
            "404 -1.084e+01 -1.101e+01\n",
            "405 -1.075e+01 -1.104e+01\n",
            "406 -1.070e+01 -1.106e+01\n",
            "407 -1.073e+01 -1.102e+01\n",
            "408 -1.069e+01 -1.116e+01\n",
            "409 -1.082e+01 -1.112e+01\n",
            "410 -1.070e+01 -1.110e+01\n",
            "411 -1.081e+01 -1.112e+01\n",
            "412 -1.074e+01 -1.104e+01\n",
            "413 -1.076e+01 -1.108e+01\n",
            "414 -1.090e+01 -1.112e+01\n",
            "415 -1.077e+01 -1.102e+01\n",
            "416 -1.071e+01 -1.110e+01\n",
            "417 -1.085e+01 -1.106e+01\n",
            "418 -1.086e+01 -1.110e+01\n",
            "419 -1.084e+01 -1.118e+01\n",
            "420 -1.082e+01 -1.115e+01\n",
            "421 -1.075e+01 -1.108e+01\n",
            "422 -1.087e+01 -1.094e+01\n",
            "423 -1.076e+01 -1.112e+01\n",
            "424 -1.084e+01 -1.126e+01 (best-model)\n",
            "425 -1.078e+01 -1.110e+01\n",
            "426 -1.080e+01 -1.114e+01\n",
            "427 -1.087e+01 -1.111e+01\n",
            "428 -1.080e+01 -1.114e+01\n",
            "429 -1.077e+01 -1.120e+01\n",
            "430 -1.083e+01 -1.103e+01\n",
            "431 -1.076e+01 -1.115e+01\n",
            "432 -1.076e+01 -1.117e+01\n",
            "433 -1.082e+01 -1.108e+01\n",
            "434 -1.090e+01 -1.118e+01\n",
            "435 -1.076e+01 -1.117e+01\n",
            "436 -1.079e+01 -1.107e+01\n",
            "437 -1.084e+01 -1.107e+01\n",
            "438 -1.080e+01 -1.116e+01\n",
            "439 -1.082e+01 -1.116e+01\n",
            "440 -1.084e+01 -1.108e+01\n",
            "441 -1.083e+01 -1.124e+01\n",
            "442 -1.087e+01 -1.124e+01\n",
            "443 -1.088e+01 -1.105e+01\n",
            "444 -1.074e+01 -1.124e+01\n",
            "445 -1.076e+01 -1.118e+01\n",
            "446 -1.086e+01 -1.115e+01\n",
            "447 -1.085e+01 -1.114e+01\n",
            "448 -1.091e+01 -1.115e+01\n",
            "449 -1.078e+01 -1.112e+01\n",
            "Time taken (seconds): 29.2246\n"
          ]
        }
      ]
    },
    {
      "cell_type": "markdown",
      "metadata": {
        "id": "hJkfJqjMmSjw"
      },
      "source": [
        "## Exercises:\n",
        "- Save training and validation losses to file or array and make a plot with training loss and validation loss as a function of the number of epochs.\n",
        "- Retrain the network using a larger number of epochs and redo the plot.\n",
        "- Retrain the network using a higher and smaller value of the learning rate.\n",
        "- Retrain the network using different values of the weight decay\n",
        "- Retrain the network using a larger number of neurons per layer\n",
        "- Change the architecture and implement a model with 3 hidden layers\n",
        "- Play with all the possible things (learning rate, weight decay, number of hidden layers, number of neurons per layer, number of epochs...etc) and get the model with the lowest validation error"
      ]
    },
    {
      "cell_type": "code",
      "metadata": {
        "id": "o5Z029Lmz4Vy",
        "colab": {
          "base_uri": "https://localhost:8080/",
          "height": 458
        },
        "outputId": "5dcafd20-0492-4df4-be70-7bf3135416fc"
      },
      "source": [
        "plt.ylabel(r'$\\mathcal{L}$')\n",
        "plt.xlabel(r'${\\rm epochs}$')\n",
        "\n",
        "plt.xscale('log')\n",
        "#plt.yscale('log')\n",
        "\n",
        "epochs2 = np.arange(epochs)\n",
        "plt.plot(epochs2, train_value)\n",
        "plt.plot(epochs2, valid_value)\n",
        "\n",
        "plt.show()"
      ],
      "execution_count": 13,
      "outputs": [
        {
          "output_type": "display_data",
          "data": {
            "text/plain": [
              "<Figure size 640x480 with 1 Axes>"
            ],
            "image/png": "[encoded data removed]"
          },
          "metadata": {}
        }
      ]
    },
    {
      "cell_type": "markdown",
      "metadata": {
        "id": "b7Oq-mivvedI"
      },
      "source": [
        "## Lets test the best-model!!"
      ]
    },
    {
      "cell_type": "code",
      "metadata": {
        "id": "GuILRwKFGykE",
        "colab": {
          "base_uri": "https://localhost:8080/"
        },
        "outputId": "cfca64e1-911e-4749-e13a-5edc6a428924"
      },
      "source": [
        "# get the test data\n",
        "test_loader = create_dataset('test', f_SFRD, f_params, batch_size, seed) #test data\n",
        "\n",
        "# load the best-model and move it to the GPU\n",
        "model.load_state_dict(torch.load(f_model))\n",
        "model.to(device=device)\n",
        "\n",
        "params_true = np.zeros((150,6), dtype=np.float32)\n",
        "params_NN   = np.zeros((150,6), dtype=np.float32)\n",
        "errors_NN   = np.zeros((150,6), dtype=np.float32)\n",
        "\n",
        "# loop over the different batches and get the prediction\n",
        "offset = 0\n",
        "test_loss, points = 0.0, 0\n",
        "model.eval()\n",
        "count = 0\n",
        "for SFRH_test, params_test in test_loader:\n",
        "    with torch.no_grad():\n",
        "\n",
        "        bs = SFRH_test.shape[0]\n",
        "\n",
        "        # move data to GPU\n",
        "        SFRH_test   = SFRH_test.to(device)\n",
        "        params_test = params_test.to(device)\n",
        "\n",
        "        # make prediction using network\n",
        "        p = model(SFRH_test)\n",
        "\n",
        "        params_true[count:count+bs,:] = params_test.cpu().numpy()\n",
        "        params_NN[count:count+bs, :]  = p[:,:6].cpu().numpy()\n",
        "        errors_NN[count:count+bs, :]  = p[:,6:].cpu().numpy()\n",
        "\n",
        "        loss1 = torch.mean((p[:,:6] - params_test)**2,                axis=0)\n",
        "        loss2 = torch.mean(((p[:,:6] - params_test)**2 - p[:,6:])**2, axis=0)\n",
        "        loss  = torch.mean(torch.log(loss1) + torch.log(loss2))\n",
        "\n",
        "        # compute cumulative loss and number of examples used\n",
        "        test_loss += loss.item()*bs\n",
        "        points += SFRH_test.shape[0]\n",
        "\n",
        "        count += bs\n",
        "\n",
        "# get the average validation loss\n",
        "test_loss /= points\n",
        "\n",
        "print('test loss = %.3e'%test_loss)"
      ],
      "execution_count": 14,
      "outputs": [
        {
          "output_type": "stream",
          "name": "stdout",
          "text": [
            "test loss = -7.727e+00\n"
          ]
        }
      ]
    },
    {
      "cell_type": "markdown",
      "metadata": {
        "id": "QGQxX-Xxy8j-"
      },
      "source": [
        "### **Exercise**: save in arrays or in a file the true and predicted values of the cosmological and astrophysical parameters. Take into account that the network will predict the normalized values, not the actual values. Make a plot with 6 panels. Each panel should have a scatter plot with the true value in the x-axis and the predicted value in the y-axis."
      ]
    },
    {
      "cell_type": "code",
      "metadata": {
        "id": "tHwPBKxmwJ9C",
        "colab": {
          "base_uri": "https://localhost:8080/",
          "height": 449
        },
        "outputId": "a2355a81-3e45-40c7-ea99-27cb0d6a7d11"
      },
      "source": [
        "plt.ylabel(r'${\\rm NN prediction}$')\n",
        "plt.xlabel(r'${\\rm True}$')\n",
        "\n",
        "#plt.xscale('log')\n",
        "#plt.yscale('log')\n",
        "\n",
        "plt.errorbar(params_true[:,0], params_NN[:,0], yerr=np.absolute(errors_NN[:,0]),\n",
        "              lw=1, fmt='o',ms=2, elinewidth=1,capsize=5,linestyle='None')\n",
        "#plt.scatter(params_true[:,0], params_NN[:,0])\n",
        "plt.plot([0,1],[0,1])\n",
        "#plt.plot(epochs2, valid_value)\n",
        "\n",
        "plt.show()"
      ],
      "execution_count": 16,
      "outputs": [
        {
          "output_type": "display_data",
          "data": {
            "text/plain": [
              "<Figure size 640x480 with 1 Axes>"
            ],
            "image/png": "[encoded data removed]"
          },
          "metadata": {}
        }
      ]
    },
    {
      "cell_type": "code",
      "metadata": {
        "id": "_pRmGzkTaoNk"
      },
      "source": [],
      "execution_count": 123,
      "outputs": []
    }
  ]
}